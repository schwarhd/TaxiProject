{
 "cells": [
  {
   "cell_type": "code",
   "execution_count": 6,
   "metadata": {
    "collapsed": false
   },
   "outputs": [
    {
     "name": "stdout",
     "output_type": "stream",
     "text": [
      "Amount of rows: 14388452\n",
      "Query Time:  6.30900001526\n"
     ]
    }
   ],
   "source": [
    "# What time range does your data cover?  How many rows are there total?\n",
    "import time\n",
    "import csv\n",
    "import os, sys\n",
    "from datetime import datetime\n",
    "start = time.time()\n",
    "i = 0\n",
    "latest = 0\n",
    "with open('trip_data_11.csv','r') as f:\n",
    "    for line in f:\n",
    "        i = i + 1\n",
    "print \"Amount of rows: %i\" % i\n",
    "print \"Query Time: \", str(time.time()-start)"
   ]
  },
  {
   "cell_type": "code",
   "execution_count": 14,
   "metadata": {
    "collapsed": false
   },
   "outputs": [
    {
     "name": "stdout",
     "output_type": "stream",
     "text": [
      "Earliest Pickup:  2013-11-01 00:00:00  Latest Pickup:  2013-11-30 23:59:59\n",
      "Earliest Dropoff:  2013-11-01 00:00:07  Latest Dropoff:  2013-12-01 01:47:54\n",
      "Amount of Rows (sans header):  14388451\n",
      "Query Time:  34.8220000267\n"
     ]
    }
   ],
   "source": [
    "i = 0\n",
    "pickup = []\n",
    "dropoff = []\n",
    "start = time.time()\n",
    "with open('trip_data_11.csv','r') as f:\n",
    "    reader = csv.reader(f)\n",
    "    next(reader)\n",
    "    for line in reader:\n",
    "        i = i + 1\n",
    "        pickup.append(line[5])\n",
    "        dropoff.append(line[6])\n",
    "        if i > 150000000:\n",
    "            break\n",
    "print \"Earliest Pickup: \", min(pickup), \" Latest Pickup: \", max(pickup)\n",
    "print \"Earliest Dropoff: \", min(dropoff), \" Latest Dropoff: \", max(dropoff)\n",
    "print \"Amount of Rows (sans header): \", len(pickup)\n",
    "print \"Query Time: \", str(time.time() - start)"
   ]
  },
  {
   "cell_type": "code",
   "execution_count": 9,
   "metadata": {
    "collapsed": false
   },
   "outputs": [
    {
     "name": "stdout",
     "output_type": "stream",
     "text": [
      "['medallion', ' hack_license', ' vendor_id', ' rate_code', ' store_and_fwd_flag', ' pickup_datetime', ' dropoff_datetime', ' passenger_count', ' trip_time_in_secs', ' trip_distance', ' pickup_longitude', ' pickup_latitude', ' dropoff_longitude', ' dropoff_latitude']\n"
     ]
    }
   ],
   "source": [
    "# What are the field names?\n",
    "with open('trip_data_11.csv','r') as f:\n",
    "    reader = csv.reader(f)\n",
    "    fieldNames = next(reader)\n",
    "    print fieldNames"
   ]
  },
  {
   "cell_type": "code",
   "execution_count": 29,
   "metadata": {
    "collapsed": false
   },
   "outputs": [
    {
     "name": "stdout",
     "output_type": "stream",
     "text": [
      "0 ['medallion', ' hack_license', ' vendor_id', ' rate_code', ' store_and_fwd_flag', ' pickup_datetime', ' dropoff_datetime', ' passenger_count', ' trip_time_in_secs', ' trip_distance', ' pickup_longitude', ' pickup_latitude', ' dropoff_longitude', ' dropoff_latitude']\n",
      "1 ['E9A54865CAF737ED003957478C9D8FA1', '912A2B86F30CDFE246586972A892367E', 'CMT', '1', 'N', '2013-11-25 15:53:33', '2013-11-25 16:00:51', '1', '437', '.60', '-73.978104', '40.752968', '-73.985756', '40.762684']\n",
      "2 ['43D85E4D101135DDFC1BC16DF53665FE', 'B2981CEA18FB7E9D8E676EF228257AD1', 'CMT', '1', 'N', '2013-11-25 15:24:41', '2013-11-25 15:30:18', '1', '336', '.50', '-73.982315', '40.764828', '-73.982132', '40.758888']\n",
      "3 ['70166F37A5CC66D9A35366764ACC40DC', '1BAF0067863EA446E21314F88A600B4D', 'CMT', '1', 'N', '2013-11-25 09:43:42', '2013-11-25 10:02:57', '1', '1154', '3.30', '-73.98201', '40.762508', '-74.006851', '40.719582']\n"
     ]
    }
   ],
   "source": [
    "# Give some sample data for each field.\n",
    "with open('trip_data_11.csv','r') as f:\n",
    "    reader = csv.reader(f)\n",
    "    for i, line in enumerate(reader):\n",
    "        print i, line\n",
    "        if i > 2:\n",
    "            break"
   ]
  },
  {
   "cell_type": "code",
   "execution_count": 27,
   "metadata": {
    "collapsed": false
   },
   "outputs": [],
   "source": [
    "# What MySQL data types would you need to store each of the fields?\n",
    "#0 ' medallion',E9A54865CAF737ED003957478C9D8FA1, VARCHAR(50),\n",
    "#1 ' hack_license',912A2B86F30CDFE246586972A892367E, VARCHAR(50) \n",
    "#2 ' vendor_id',CMT, VARCHAR(10)\n",
    "#3 ' rate_code',1, INT(3)\n",
    "#4 ' store_and_fwd_flag',N, CHAR(3)\n",
    "#5 ' pickup_datetime',2013-11-25 15:53:33, TIMESTAMP \n",
    "#6 ' dropoff_datetime',2013-11-25 16:00:51, TIMESTAMP \n",
    "#7 ' passenger_count',1, INT(2)\n",
    "#8 ' trip_time_in_secs',437, INT(10)\n",
    "#9 ' trip_distance',.60, DECIMAL(5,2) \n",
    "#10 ' pickup_longitude',-73.978104, DECIMAL(9,6)\n",
    "#11 ' pickup_latitude',40.752968,  DECIMAL(9,6)\n",
    "#12 ' dropoff_longitude',-73.985756,  DECIMAL(9,6) \n",
    "#13 ' dropoff_latitude',40.762684,  DECIMAL(9,6)"
   ]
  },
  {
   "cell_type": "code",
   "execution_count": 3,
   "metadata": {
    "collapsed": false
   },
   "outputs": [],
   "source": [
    "# What is the geographic range of your data (min/max - X/Y)?\n",
    "# Plot this approximately on a map\n",
    "# https://en.wikipedia.org/wiki/List_of_extreme_points_of_U.S._states\n",
    "# 10 ' pickup_longitude',\n",
    "# 11 ' pickup_latitude',\n",
    "# 12 ' dropoff_longitude',\n",
    "# 13 ' dropoff_latitude' \n",
    "# maxLat = 45.01\n",
    "# minLat = 40.50\n",
    "# maxLong = -71.86\n",
    "# minLong = -79.76\n",
    "def findMaxCoord(data,row,minValue,maxValue): # chose file, chose row, select max, min\n",
    "    start = time.time()\n",
    "    stringErrors = 0.0 #string error counter\n",
    "    maxErrors  = 0.0 #value error counter\n",
    "    n = 0.0\n",
    "    local = minValue\n",
    "    with open(data,\"rb\") as f:\n",
    "        reader = csv.reader(f)\n",
    "        title = next(reader)\n",
    "        title = title[row] # skip headers\n",
    "        for i, line in enumerate(reader):\n",
    "            try:\n",
    "                x = float(line[row])\n",
    "            except ValueError,e:\n",
    "                stringErrors = stringErrors + 1\n",
    "            if x > maxValue:\n",
    "                maxErrors = maxErrors + 1\n",
    "                pass\n",
    "            elif x > local:\n",
    "                local = x \n",
    "            if n > 15000000:\n",
    "                break\n",
    "            n = n + 1\n",
    "    print \"MAXIMUM: \", title\n",
    "    #print \"Time: \", str(time.time()-start)\n",
    "    print \"String Errors: \", stringErrors, \" Values out of Range: \", maxErrors, \" Perc. Rows Excluded: \", ((stringErrors + maxErrors)/n)*100, \"%\"\n",
    "    #print \"Total Rows: \", n\n",
    "    return local\n",
    "\n",
    "def findMinCoord(data,row,minValue,maxValue): # chose file, chose row, select max, min\n",
    "    start = time.time()\n",
    "    stringErrors = 0.0 #string error counter\n",
    "    minErrors  = 0.0 #value error counter\n",
    "    n = 0.0\n",
    "    local = maxValue\n",
    "    with open(data,\"rb\") as f:\n",
    "        reader = csv.reader(f)\n",
    "        title = next(reader)\n",
    "        title = title[row] # skip headers\n",
    "        for i, line in enumerate(reader):\n",
    "            try:\n",
    "                x = float(line[row])\n",
    "            except ValueError,e:\n",
    "                stringErrors = stringErrors + 1\n",
    "            if x < minValue:\n",
    "                minErrors = minErrors + 1\n",
    "                pass\n",
    "            elif x < local:\n",
    "                local = x \n",
    "            if n > 15000000:\n",
    "                break\n",
    "            n = n + 1\n",
    "    #print \"Time: \", str(time.time()-start)\n",
    "    print \"minimum: \", title\n",
    "    print \"String Errors: \", stringErrors, \" Values out of Range: \", minErrors, \" Perc. Rows Excluded: \", ((stringErrors + minErrors)/n)*100, \"%\"\n",
    "    #print \"Total Rows: \", n\n",
    "    return local\n",
    "\n",
    "# max_pickup_latitude = findMaxCoord('trip_data_11.csv',11,40.50,45.01)\n",
    "# print max_pickup_latitude\n",
    "# min_pickup_latitude = findMinCoord('trip_data_11.csv',11,40.50,45.01)\n",
    "# print min_pickup_latitude"
   ]
  },
  {
   "cell_type": "code",
   "execution_count": 42,
   "metadata": {
    "collapsed": false
   },
   "outputs": [
    {
     "name": "stdout",
     "output_type": "stream",
     "text": [
      " MAXIMUM:   pickup_longitude\n",
      "String Errors:  0.0  Values out of Range:  273800.0  Perc. Rows Excluded:  1.90291505319 %\n",
      "minimum:   pickup_longitude\n",
      "String Errors:  0.0  Values out of Range:  43.0  Perc. Rows Excluded:  0.000298850793598 %\n",
      "MAXIMUM:   pickup_latitude\n",
      "String Errors:  0.0  Values out of Range:  1.0  Perc. Rows Excluded:  6.95001845577e-06 %\n",
      "minimum:   pickup_latitude\n",
      "String Errors:  0.0  Values out of Range:  273842.0  Perc. Rows Excluded:  1.90320695397 %\n",
      "MAXIMUM:   dropoff_longitude\n",
      "String Errors:  754.0  Values out of Range:  282884.0  Perc. Rows Excluded:  1.97128933476 %\n",
      "MAXIMUM:   dropoff_longitude\n",
      "String Errors:  754.0  Values out of Range:  282884.0  Perc. Rows Excluded:  1.97128933476 %\n",
      "minimum:   dropoff_latitude\n",
      "String Errors:  754.0  Values out of Range:  282912.0  Perc. Rows Excluded:  1.97148393528 %\n",
      "minimum:   dropoff_latitude\n",
      "String Errors:  754.0  Values out of Range:  282912.0  Perc. Rows Excluded:  1.97148393528 %\n"
     ]
    }
   ],
   "source": [
    "# 10 ' pickup_longitude',\n",
    "# 11 ' pickup_latitude',\n",
    "# 12 ' dropoff_longitude',\n",
    "# 13 ' dropoff_latitude' \n",
    "# max_pickup_longitude = findMaxCoord('trip_data_11.csv',10,-168.30,-55.50)\n",
    "# max_pickup_latitude = findMaxCoord('trip_data_11.csv',11,7.0,72.0)\n",
    "\n",
    "def findMaxMatch(data,row,row_comp,minValue,maxValue): # chose file, chose row, select max, min\n",
    "    start = time.time()\n",
    "    stringErrors = 0.0 #string error counter\n",
    "    maxErrors  = 0.0 #value error counter\n",
    "    n = 0.0\n",
    "    local = minValue\n",
    "    comp = 0\n",
    "    with open(data,\"rb\") as f:\n",
    "        reader = csv.reader(f)\n",
    "        title = next(reader)\n",
    "        title = title[row] # skip headers\n",
    "        for i, line in enumerate(reader):\n",
    "            try:\n",
    "                x = float(line[row])\n",
    "                y = float(line[row_comp])\n",
    "            except ValueError,e:\n",
    "                stringErrors = stringErrors + 1\n",
    "            if x > maxValue:\n",
    "                maxErrors = maxErrors + 1\n",
    "                pass\n",
    "            elif x > local:\n",
    "                local = x \n",
    "                comp = y\n",
    "            if n > 15000000:\n",
    "                break\n",
    "            n = n + 1\n",
    "    print \"MAXIMUM: \", title\n",
    "    #print \"Time: \", str(time.time()-start)\n",
    "    print \"String Errors: \", stringErrors, \" Values out of Range: \", maxErrors, \" Perc. Rows Excluded: \", ((stringErrors + maxErrors)/n)*100, \"%\"\n",
    "    #print \"Total Rows: \", n\n",
    "    return local, comp\n",
    "\n",
    "def findMinMatch(data,row,row_comp,minValue,maxValue): # chose file, chose row, select max, min\n",
    "    start = time.time()\n",
    "    stringErrors = 0.0 #string error counter\n",
    "    minErrors  = 0.0 #value error counter\n",
    "    n = 0.0\n",
    "    local = minValue\n",
    "    comp = 0\n",
    "    with open(data,\"rb\") as f:\n",
    "        reader = csv.reader(f)\n",
    "        title = next(reader)\n",
    "        title = title[row] # skip headers\n",
    "        for i, line in enumerate(reader):\n",
    "            try:\n",
    "                x = float(line[row])\n",
    "                y = float(line[row_comp])\n",
    "            except ValueError,e:\n",
    "                stringErrors = stringErrors + 1\n",
    "            if x < minValue:\n",
    "                minErrors = minErrors + 1\n",
    "                pass\n",
    "            elif x < local:\n",
    "                local = x\n",
    "                comp = y\n",
    "            if n > 15000000:\n",
    "                break\n",
    "            n = n + 1\n",
    "    #print \"Time: \", str(time.time()-start)\n",
    "    print \"minimum: \", title\n",
    "    print \"String Errors: \", stringErrors, \" Values out of Range: \", minErrors, \" Perc. Rows Excluded: \", ((stringErrors + minErrors)/n)*100, \"%\"\n",
    "    #print \"Total Rows: \", n\n",
    "    return local, comp\n",
    "\n",
    "pickup_longitude_max = findMaxMatch('trip_data_11.csv',10,11,-168.30,-55.50)\n",
    "pickup_longitude_min = findMinMatch('trip_data_11.csv',10,11,-168.30,-55.50)\n",
    "pickup_latitude_max = findMaxMatch('trip_data_11.csv',11,10,7.0,72.0)\n",
    "pickup_latitude_min = findMinMatch('trip_data_11.csv',11,10,7.0,72.0)\n",
    "dropoff_longitude_max = findMaxMatch('trip_data_11.csv',12,13,-168.30,-55.50)\n",
    "dropoff_longitude_min = findMinMatch('trip_data_11.csv',12,13,-168.30,-55.50)\n",
    "dropoff_latitude_max = findMaxMatch('trip_data_11.csv',13,12,7.0,72.0)\n",
    "dropoff_latitude_min = findMinMatch('trip_data_11.csv',13,12,7.0,72.0)"
   ]
  },
  {
   "cell_type": "code",
   "execution_count": 44,
   "metadata": {
    "collapsed": false
   },
   "outputs": [
    {
     "name": "stdout",
     "output_type": "stream",
     "text": [
      "minimum:   dropoff_longitude\n",
      "String Errors:  754.0  Values out of Range:  43.0  Perc. Rows Excluded:  0.00553916470925 %\n",
      "MAXIMUM:   dropoff_latitude\n",
      "String Errors:  754.0  Values out of Range:  2.0  Perc. Rows Excluded:  0.00525421395257 %\n",
      "(-56.633026, 33.093407)\n",
      "(-168.3, 0)\n",
      "(64.870567, -2.9665699)\n",
      "(7.0, 0)\n",
      "(-56.099979, 42.283688)\n",
      "(-168.3, 0)\n",
      "(64.445435, -11.044415)\n",
      "(7.0, 0)\n"
     ]
    }
   ],
   "source": [
    "dropoff_longitude_min = findMinMatch('trip_data_11.csv',12,13,-168.30,-55.50)\n",
    "dropoff_latitude_max = findMaxMatch('trip_data_11.csv',13,12,7.0,72.0)\n",
    "\n",
    "print pickup_longitude_max \n",
    "print pickup_longitude_min\n",
    "print pickup_latitude_max \n",
    "print pickup_latitude_min \n",
    "print dropoff_longitude_max \n",
    "print dropoff_longitude_min \n",
    "print dropoff_latitude_max \n",
    "print dropoff_latitude_min "
   ]
  },
  {
   "cell_type": "code",
   "execution_count": 47,
   "metadata": {
    "collapsed": false
   },
   "outputs": [
    {
     "name": "stdout",
     "output_type": "stream",
     "text": [
      "MAXIMUM:   pickup_longitude\n",
      "String Errors:  0.0  Values out of Range:  273946.0\n",
      "Percentage of Rows Excluded:  1.90392975589 %  Perc. Rows Excluded:  1.90392975589 %\n",
      "MAXIMUM:   pickup_latitude\n",
      "String Errors:  0.0  Values out of Range:  101.0\n",
      "Percentage of Rows Excluded:  0.000701951864033 %  Perc. Rows Excluded:  0.000701951864033 %\n",
      "MAXIMUM:   dropoff_longitude\n",
      "String Errors:  754.0  Values out of Range:  283027.0\n",
      "Percentage of Rows Excluded:  1.9722831874 %  Perc. Rows Excluded:  1.9722831874 %\n",
      "MAXIMUM:   dropoff_latitude\n",
      "String Errors:  754.0  Values out of Range:  100.0\n",
      "Percentage of Rows Excluded:  0.00593531576123 %  Perc. Rows Excluded:  0.00593531576123 %\n",
      "MINIMUM   pickup_longitude\n",
      "String Errors:  0.0  Values out of Range:  148.0  Perc. Rows Excluded:  0.00102860273145 %\n",
      "MINIMUM   pickup_latitude\n",
      "String Errors:  0.0  Values out of Range:  274239.0  Perc. Rows Excluded:  1.90596611129 %\n",
      "MINIMUM   dropoff_longitude\n",
      "String Errors:  754.0  Values out of Range:  151.0  Perc. Rows Excluded:  0.00628976670248 %\n",
      "MINIMUM   dropoff_latitude\n",
      "String Errors:  754.0  Values out of Range:  283410.0  Perc. Rows Excluded:  1.97494504447 %\n",
      "[-79.735291, -71.863335]\n",
      "[40.500011, 44.986397]\n"
     ]
    }
   ],
   "source": [
    "# 10 ' pickup_longitude',\n",
    "# 11 ' pickup_latitude',\n",
    "# 12 ' dropoff_longitude',\n",
    "# 13 ' dropoff_latitude' \n",
    "# maxLat = 45.01\n",
    "# minLat = 40.50\n",
    "# maxLong = -71.86\n",
    "# minLong = -79.76\n",
    "\n",
    "x = []\n",
    "y = []\n",
    "xx = []\n",
    "yy = []\n",
    "max_pickup_longitude = findMaxCoord('trip_data_11.csv',10,-79.76,-71.86)\n",
    "x.append(max_pickup_longitude)\n",
    "max_pickup_latitude = findMaxCoord('trip_data_11.csv',11,40.50,45.01)\n",
    "y.append(max_pickup_latitude)\n",
    "max_dropoff_longitude = findMaxCoord('trip_data_11.csv',12,-79.76,-71.86)\n",
    "x.append(max_dropoff_longitude)\n",
    "max_dropoff_latitude = findMaxCoord('trip_data_11.csv',13,40.50,45.01)\n",
    "y.append(max_dropoff_latitude)\n",
    "min_pickup_longitude = findMinCoord('trip_data_11.csv',10,-79.76,-71.86)\n",
    "x.append(min_pickup_longitude)\n",
    "min_pickup_latitude = findMinCoord('trip_data_11.csv',11,40.50,45.01)\n",
    "y.append(min_pickup_latitude)\n",
    "min_dropoff_longitude = findMinCoord('trip_data_11.csv',12,-79.76,-71.86)\n",
    "x.append(min_dropoff_longitude)\n",
    "min_dropoff_latitude = findMinCoord('trip_data_11.csv',13,40.50,45.01)\n",
    "y.append(min_dropoff_latitude)\n",
    "\n",
    "xx.append(min(x))\n",
    "xx.append(max(x))\n",
    "yy.append(min(y))\n",
    "yy.append(max(y))\n",
    "xx.sort()\n",
    "yy.sort()\n",
    "print xx\n",
    "print yy"
   ]
  },
  {
   "cell_type": "code",
   "execution_count": null,
   "metadata": {
    "collapsed": true
   },
   "outputs": [],
   "source": []
  },
  {
   "cell_type": "code",
   "execution_count": 48,
   "metadata": {
    "collapsed": false
   },
   "outputs": [
    {
     "name": "stdout",
     "output_type": "stream",
     "text": [
      "MAXIMUM:   pickup_longitude\n",
      "String Errors:  0.0  Values out of Range:  273800.0\n",
      "Percentage of Rows Excluded:  1.90291505319 %  Perc. Rows Excluded:  1.90291505319 %\n",
      "MAXIMUM:   pickup_latitude\n",
      "String Errors:  0.0  Values out of Range:  1.0\n",
      "Percentage of Rows Excluded:  6.95001845577e-06 %  Perc. Rows Excluded:  6.95001845577e-06 %\n",
      "MAXIMUM:   dropoff_longitude\n",
      "String Errors:  754.0  Values out of Range:  282884.0\n",
      "Percentage of Rows Excluded:  1.97128933476 %  Perc. Rows Excluded:  1.97128933476 %\n",
      "MAXIMUM:   dropoff_latitude\n",
      "String Errors:  754.0  Values out of Range:  2.0\n",
      "Percentage of Rows Excluded:  0.00525421395257 %  Perc. Rows Excluded:  0.00525421395257 %\n",
      "MINIMUM   pickup_longitude\n",
      "String Errors:  0.0  Values out of Range:  43.0  Perc. Rows Excluded:  0.000298850793598 %\n",
      "MINIMUM   pickup_latitude\n",
      "String Errors:  0.0  Values out of Range:  273842.0  Perc. Rows Excluded:  1.90320695397 %\n",
      "MINIMUM   dropoff_longitude\n",
      "String Errors:  754.0  Values out of Range:  43.0  Perc. Rows Excluded:  0.00553916470925 %\n",
      "MINIMUM   dropoff_latitude\n",
      "String Errors:  754.0  Values out of Range:  282912.0  Perc. Rows Excluded:  1.97148393528 %\n",
      "[-117.47642, -56.099979]\n",
      "[7.7511501, 64.870567]\n"
     ]
    }
   ],
   "source": [
    "# since the above is wrong, we'll use the boundaries of continental north america\n",
    "\n",
    "# Northernmost point — Zenith Point, Canada 72°0′0″N 94°38′59″W.\n",
    "# Southernmost point — Punta Mariato, Panama 7°12′32″N 80°53′10″W.\n",
    "# Westernmost point — Cape Prince of Wales, Alaska 65°35′47″N 168°5′5″W.\n",
    "# Easternmost point — Cape Saint Charles, Labrador 52°13′3″N 55°37′15″W.\n",
    "\n",
    "x = []\n",
    "y = []\n",
    "xx = []\n",
    "yy = []\n",
    "max_pickup_longitude = findMaxCoord('trip_data_11.csv',10,-168.30,-55.50)\n",
    "x.append(max_pickup_longitude)\n",
    "max_pickup_latitude = findMaxCoord('trip_data_11.csv',11,7.0,72.0)\n",
    "y.append(max_pickup_latitude)\n",
    "max_dropoff_longitude = findMaxCoord('trip_data_11.csv',12,-168.30,-55.50)\n",
    "x.append(max_dropoff_longitude)\n",
    "max_dropoff_latitude = findMaxCoord('trip_data_11.csv',13,7.0,72.0)\n",
    "y.append(max_dropoff_latitude)\n",
    "min_pickup_longitude = findMinCoord('trip_data_11.csv',10,-168.30,-55.50)\n",
    "x.append(min_pickup_longitude)\n",
    "min_pickup_latitude = findMinCoord('trip_data_11.csv',11,7.0,72.0)\n",
    "y.append(min_pickup_latitude)\n",
    "min_dropoff_longitude = findMinCoord('trip_data_11.csv',12,-168.30,-55.50)\n",
    "x.append(min_dropoff_longitude)\n",
    "min_dropoff_latitude = findMinCoord('trip_data_11.csv',13,7.0,72.0)\n",
    "y.append(min_dropoff_latitude)\n",
    "\n",
    "xx.append(min(x))\n",
    "xx.append(max(x))\n",
    "yy.append(min(y))\n",
    "yy.append(max(y))\n",
    "xx.sort()\n",
    "yy.sort()\n",
    "print xx\n",
    "print yy"
   ]
  },
  {
   "cell_type": "code",
   "execution_count": 25,
   "metadata": {
    "collapsed": false
   },
   "outputs": [
    {
     "name": "stdout",
     "output_type": "stream",
     "text": [
      "[-79.735291, -71.863335]\n",
      "[40.500011, 44.986397]\n"
     ]
    }
   ],
   "source": [
    "# What is the geographic range of your data (min/max - X/Y)?\n",
    "# using the tool: https://www.darrinward.com/lat-long/?id=3279557\n",
    "print xx\n",
    "print yy\n",
    "# 40.500011,-71.863335\n",
    "# 40.500011,-79.735291\n",
    "# 44.986397,-71.863335\n",
    "# 44.986397,-79.735291\n",
    "# 7.7511501,-56.099979\n",
    "# 7.7511501,-117.47642\n",
    "# 64.870567,-56.099979\n",
    "# 64.870567,-117.47642"
   ]
  },
  {
   "cell_type": "code",
   "execution_count": 58,
   "metadata": {
    "collapsed": false
   },
   "outputs": [
    {
     "data": {
      "text/plain": [
       "'C:\\\\Users\\\\harrison\\\\Anaconda2\\\\python.exe'"
      ]
     },
     "execution_count": 58,
     "metadata": {},
     "output_type": "execute_result"
    }
   ],
   "source": [
    "import sys\n",
    "sys.executable"
   ]
  },
  {
   "cell_type": "code",
   "execution_count": null,
   "metadata": {
    "collapsed": true
   },
   "outputs": [],
   "source": [
    "# What are the distinct values for each field?\n",
    "#0 ' medallion',E9A54865CAF737ED003957478C9D8FA1, VARCHAR(50),\n",
    "#1 ' hack_license',912A2B86F30CDFE246586972A892367E, VARCHAR(50) \n",
    "#2 ' vendor_id',CMT, VARCHAR(10)\n",
    "#3 ' rate_code',1, INT(3)\n",
    "#4 ' store_and_fwd_flag',N, CHAR(3)\n",
    "#5 ' pickup_datetime',2013-11-25 15:53:33, TIMESTAMP \n",
    "#6 ' dropoff_datetime',2013-11-25 16:00:51, TIMESTAMP \n",
    "#7 ' passenger_count',1, INT(2)\n",
    "#8 ' trip_time_in_secs',437, INT(10)\n",
    "#9 ' trip_distance',.60, DECIMAL(5,2) \n",
    "#10 ' pickup_longitude',-73.978104, DECIMAL(9,6)\n",
    "#11 ' pickup_latitude',40.752968,  DECIMAL(9,6)\n",
    "#12 ' dropoff_longitude',-73.985756,  DECIMAL(9,6) \n",
    "#13 ' dropoff_latitude',40.762684,  DECIMAL(9,6)\n",
    "\n",
    "##########\n",
    "# This code will go through, row by row, and append to a dictionary corresponding to each column in the row\n",
    "# Unfortunately, this code does not work for high-cardinality columns, and it's much much easier\n",
    "# To just read through each column\n",
    "# But I couldn't just throw this away. Maybe I'll use it in the future.\n",
    "##########\n",
    "\n",
    "\n",
    "# import time\n",
    "# import csv\n",
    "# import os, sys\n",
    "# import plotly.plotly as py\n",
    "# import pandas as pd\n",
    "\n",
    "# start = time.time()\n",
    "\n",
    "with open('trip_data_11.csv','r') as f:\n",
    "    reader = csv.reader(f)\n",
    "    fieldNames = next(reader)\n",
    "    dictlist = [dict() for x in fieldNames]\n",
    "    for i, line in enumerate(reader):\n",
    "        if i % 1000 == 0:\n",
    "            print i,line\n",
    "        for row in line:\n",
    "            #print line.index(row), row\n",
    "            if row in  dictlist[line.index(row)].keys():\n",
    "                dictlist[line.index(row)][row] += 1\n",
    "            else:\n",
    "                dictlist[line.index(row)][row] = 1\n",
    "        if i > 5000:\n",
    "            break\n",
    "\n",
    "# print dictlist\n",
    "# print fieldNames\n",
    "# for i in dictlist:\n",
    "#     print fieldNames[dictlist.index(i)], len(i)\n",
    "\n",
    "# print \"time: \", str(time.time()-start)\n"
   ]
  },
  {
   "cell_type": "code",
   "execution_count": 50,
   "metadata": {
    "collapsed": false
   },
   "outputs": [
    {
     "name": "stdout",
     "output_type": "stream",
     "text": [
      "OVER THRESHOLD\n",
      "Column:  medallion\n",
      "Cardinality over 100:  5275\n",
      "OVER THRESHOLD\n",
      "Column:   hack_license\n",
      "Cardinality over 100:  5601\n",
      "Column:   vendor_id\n",
      "Cardinality: 2 ['VTS', 'CMT']\n",
      "Column:   rate_code\n",
      "Cardinality: 12 ['10', '210', '1', '0', '3', '2', '5', '4', '7', '6', '9', '8']\n",
      "Column:   store_and_fwd_flag\n",
      "Cardinality: 3 ['Y', '', 'N']\n",
      "OVER THRESHOLD\n",
      "Column:   pickup_datetime\n",
      "Cardinality over 100:  1069\n",
      "OVER THRESHOLD\n",
      "Column:   dropoff_datetime\n",
      "Cardinality over 100:  1025\n",
      "Column:   passenger_count\n",
      "Cardinality: 11 ['208', '1', '0', '3', '2', '5', '4', '7', '6', '9', '8']\n",
      "OVER THRESHOLD\n",
      "Column:   trip_time_in_secs\n",
      "Cardinality over 100:  1037\n",
      "OVER THRESHOLD\n",
      "Column:   trip_distance\n",
      "Cardinality over 100:  1276\n",
      "OVER THRESHOLD\n",
      "Column:   pickup_longitude\n",
      "Cardinality over 100:  5746\n",
      "OVER THRESHOLD\n",
      "Column:   pickup_latitude\n",
      "Cardinality over 100:  7615\n",
      "OVER THRESHOLD\n",
      "Column:   dropoff_longitude\n",
      "Cardinality over 100:  6112\n",
      "OVER THRESHOLD\n",
      "Column:   dropoff_latitude\n",
      "Cardinality over 100:  8117\n"
     ]
    }
   ],
   "source": [
    "# What are the distinct values for each field?\n",
    "#0 ' medallion',E9A54865CAF737ED003957478C9D8FA1, VARCHAR(50),\n",
    "#1 ' hack_license',912A2B86F30CDFE246586972A892367E, VARCHAR(50) \n",
    "#2 ' vendor_id',CMT, VARCHAR(10)\n",
    "#3 ' rate_code',1, INT(3)\n",
    "#4 ' store_and_fwd_flag',N, CHAR(3)\n",
    "#5 ' pickup_datetime',2013-11-25 15:53:33, TIMESTAMP \n",
    "#6 ' dropoff_datetime',2013-11-25 16:00:51, TIMESTAMP \n",
    "#7 ' passenger_count',1, INT(2)\n",
    "#8 ' trip_time_in_secs',437, INT(10)\n",
    "#9 ' trip_distance',.60, DECIMAL(5,2) \n",
    "#10 ' pickup_longitude',-73.978104, DECIMAL(9,6)\n",
    "#11 ' pickup_latitude',40.752968,  DECIMAL(9,6)\n",
    "#12 ' dropoff_longitude',-73.985756,  DECIMAL(9,6) \n",
    "#13 ' dropoff_latitude',40.762684,  DECIMAL(9,6)\n",
    "\n",
    "# What are the distinct values for each field?\n",
    "import time\n",
    "import csv\n",
    "# import os, sys\n",
    "# import pandas as pd\n",
    "\n",
    "start = time.time()\n",
    "\n",
    "def cardinality(data,row,threshold):\n",
    "    dict = {}\n",
    "    with open(data,\"rb\") as f:\n",
    "        reader = csv.reader(f)\n",
    "        title = next(reader)\n",
    "        title = title[row] # skip headers\n",
    "        for i, line in enumerate(reader):\n",
    "            if line[row] in dict.keys():\n",
    "                dict[line[row]] = dict[line[row]] + 1\n",
    "            else:\n",
    "                dict[line[row]] = 1\n",
    "            if i % 10000 == 0:\n",
    "                if len(dict) > threshold:\n",
    "                    print \"OVER THRESHOLD\"\n",
    "                    break\n",
    "            if i > 15000000:\n",
    "                break\n",
    "    print \"Column: \", title\n",
    "    return dict\n",
    "\n",
    "# print len(cardinality('trip_data_11.csv',0,1000))\n",
    "\n",
    "for i in range(14):\n",
    "    x = cardinality('trip_data_11.csv',i,1000)\n",
    "    if len(x) < 100:\n",
    "        print \"Cardinality:\", len(x), x.keys()\n",
    "    else:\n",
    "        print \"Cardinality over 100: \", len(x)\n",
    "            \n",
    "    "
   ]
  },
  {
   "cell_type": "code",
   "execution_count": 18,
   "metadata": {
    "collapsed": false
   },
   "outputs": [
    {
     "name": "stdout",
     "output_type": "stream",
     "text": [
      "MAXIMUM:   rate_code\n",
      "String Errors:  0.0  Values out of Range:  0.0  Perc. Rows Excluded:  0.0 %\n",
      "minimum:   rate_code\n",
      "String Errors:  0.0  Values out of Range:  0.0  Perc. Rows Excluded:  0.0 %\n",
      "MAXIMUM:   passenger_count\n",
      "String Errors:  0.0  Values out of Range:  0.0  Perc. Rows Excluded:  0.0 %\n",
      "minimum:   passenger_count\n",
      "String Errors:  0.0  Values out of Range:  0.0  Perc. Rows Excluded:  0.0 %\n",
      "MAXIMUM:   trip_time_in_secs\n",
      "String Errors:  0.0  Values out of Range:  0.0  Perc. Rows Excluded:  0.0 %\n",
      "minimum:   trip_time_in_secs\n",
      "String Errors:  0.0  Values out of Range:  0.0  Perc. Rows Excluded:  0.0 %\n",
      "MAXIMUM:   trip_distance\n",
      "String Errors:  0.0  Values out of Range:  0.0  Perc. Rows Excluded:  0.0 %\n",
      "minimum:   trip_distance\n",
      "String Errors:  0.0  Values out of Range:  0.0  Perc. Rows Excluded:  0.0 %\n"
     ]
    }
   ],
   "source": [
    "# For the other numeric types beside lat and lon, what are the min and max values\n",
    "#0 ' medallion',E9A54865CAF737ED003957478C9D8FA1, VARCHAR(50),\n",
    "#1 ' hack_license',912A2B86F30CDFE246586972A892367E, VARCHAR(50) \n",
    "#2 ' vendor_id',CMT, VARCHAR(10)\n",
    "#3 ' rate_code',1, INT(3)\n",
    "#4 ' store_and_fwd_flag',N, CHAR(3)\n",
    "#5 ' pickup_datetime',2013-11-25 15:53:33, TIMESTAMP \n",
    "#6 ' dropoff_datetime',2013-11-25 16:00:51, TIMESTAMP \n",
    "#7 ' passenger_count',1, INT(2)\n",
    "#8 ' trip_time_in_secs',437, INT(10)\n",
    "#9 ' trip_distance',.60, DECIMAL(5,2) \n",
    "\n",
    "# Since I defined functions, I can just cheat and reuse them here\n",
    "\n",
    "max_rate_code = findMaxCoord('trip_data_11.csv',3,-10,500)\n",
    "min_rate_code = findMinCoord('trip_data_11.csv',3,-10,100)\n",
    "max_passenger_count = findMaxCoord('trip_data_11.csv',7,0,500)\n",
    "min_passenger_count = findMinCoord('trip_data_11.csv',7,0,500)\n",
    "max_trip_time_in_secs = findMaxCoord('trip_data_11.csv',8,0,1000000000)\n",
    "min_trip_time_in_secs = findMinCoord('trip_data_11.csv',8,0,1000000000)\n",
    "max_trip_distance = findMaxCoord('trip_data_11.csv',9,-10,10000000)\n",
    "min_trip_distance = findMinCoord('trip_data_11.csv',9,-10,10000000)\n",
    "\n",
    "\n"
   ]
  },
  {
   "cell_type": "code",
   "execution_count": 22,
   "metadata": {
    "collapsed": false
   },
   "outputs": [
    {
     "name": "stdout",
     "output_type": "stream",
     "text": [
      "max_rate_code: 210.0\n",
      "min_rate_code: 0.0\n",
      "max_passenger_count: 208.0\n",
      "min_passenger_count: 0.0\n",
      "max_trip_time_in_secs: 10800.0\n",
      "min_trip_time_in_secs: 0.0\n",
      "max_trip_distance: 100.0\n",
      "min_trip_distance: 0.0\n"
     ]
    }
   ],
   "source": [
    "print 'max_rate_code:', max_rate_code\n",
    "print 'min_rate_code:', min_rate_code\n",
    "print 'max_passenger_count:', max_passenger_count\n",
    "print 'min_passenger_count:', min_passenger_count\n",
    "print 'max_trip_time_in_secs:', max_trip_time_in_secs\n",
    "print 'min_trip_time_in_secs:', min_trip_time_in_secs\n",
    "print 'max_trip_distance:', max_trip_distance \n",
    "print 'min_trip_distance:', min_trip_distance "
   ]
  },
  {
   "cell_type": "code",
   "execution_count": 29,
   "metadata": {
    "collapsed": false
   },
   "outputs": [
    {
     "data": {
      "image/png": "[encoded data removed]",
      "text/plain": [
       "<matplotlib.figure.Figure at 0x83ec1128>"
      ]
     },
     "metadata": {},
     "output_type": "display_data"
    }
   ],
   "source": [
    "import csv\n",
    "import os, sys\n",
    "import matplotlib.pylab as plt\n",
    "\n",
    "# Create a chart which shows the average number of passengers each hour of the day\n",
    "#5 ' pickup_datetime',2013-11-25 15:53:33, TIMESTAMP \n",
    "#6 ' dropoff_datetime',2013-11-25 16:00:51, TIMESTAMP \n",
    "#7 ' passenger_count',1, INT(2)\n",
    "######################################\n",
    "# abc = [[1,2,3,4,5],[6,7,8,9,10]]\n",
    "# for i in range(len(abc)):\n",
    "#     x = sum(abc[i])/len(abc[i])\n",
    "#     print x\n",
    "######################################\n",
    "with open('trip_data_11.csv','r') as f:\n",
    "# with open('Taxi000.csv','r') as f:\n",
    "#     dict = {}\n",
    "    reader = csv.reader(f)\n",
    "    fieldNames = next(reader)\n",
    "    listlist = [list() for x in range(24)]\n",
    "    for i, line in enumerate(reader):\n",
    "#         print line\n",
    "        dt = line[5].split(' ')\n",
    "        t = dt[1].split(':')\n",
    "        hour = int(t[0])\n",
    "#         print hour\n",
    "        count = float(line[7])\n",
    "#         print count\n",
    "        listlist[hour].append(count)\n",
    "#         if hour in dict.keys():\n",
    "#             dict[hour] += 1\n",
    "#         else:\n",
    "#             dict[hour] = 1\n",
    "#         print hour\n",
    "        if i > 15000000:\n",
    "            break\n",
    "# print listlist\n",
    "# print len(dict)\n",
    "# print dict.keys()\n",
    "fulldict = {}\n",
    "for i in range(len(listlist)):\n",
    "    try:\n",
    "#         print listlist.index(x), sum(x), len(x), sum(x)/len(x)\n",
    "        z = sum(listlist[i])/len(listlist[i])\n",
    "        #print i, z\n",
    "        fulldict[i] = z\n",
    "    except ZeroDivisionError, e:\n",
    "        print e\n",
    "        pass      \n",
    "# print fulldict\n",
    "\n",
    "lists = sorted(fulldict.items()) # sorted by key, return a list of tuples\n",
    "x, y = zip(*lists) # unpack a list of pairs into two tuples\n",
    "plt.plot(x, y)\n",
    "plt.show()\n"
   ]
  },
  {
   "cell_type": "code",
   "execution_count": 30,
   "metadata": {
    "collapsed": false
   },
   "outputs": [
    {
     "data": {
      "image/png": "[encoded data removed]",
      "text/plain": [
       "<matplotlib.figure.Figure at 0x65064860>"
      ]
     },
     "metadata": {},
     "output_type": "display_data"
    }
   ],
   "source": [
    "import matplotlib.pyplot as plt\n",
    "axes = plt.gca()\n",
    "axes.set_xlim([-1,24])\n",
    "axes.set_ylim([1.5,1.9])\n",
    "plt.bar(range(len(fulldict)), fulldict.values(), align='center')\n",
    "plt.xticks(range(len(fulldict)), fulldict.keys())\n",
    "\n",
    "plt.show()"
   ]
  },
  {
   "cell_type": "code",
   "execution_count": 100,
   "metadata": {
    "collapsed": false
   },
   "outputs": [
    {
     "name": "stdout",
     "output_type": "stream",
     "text": [
      "[[], [], [], [], []]\n",
      "0 []\n",
      "1 []\n",
      "2 []\n",
      "3 []\n",
      "4 []\n"
     ]
    }
   ],
   "source": [
    "testlist = [list() for x in range(5)]\n",
    "print testlist\n",
    "for i in range(len(testlist)):\n",
    "    print i, testlist[i]\n",
    "#     print testlist.index(i)\n",
    "    \n"
   ]
  },
  {
   "cell_type": "code",
   "execution_count": 31,
   "metadata": {
    "collapsed": false
   },
   "outputs": [
    {
     "name": "stdout",
     "output_type": "stream",
     "text": [
      "Time:  7.17300009727\n"
     ]
    }
   ],
   "source": [
    "# Create a new CSV file which only one output out of every thousand rows\n",
    "\n",
    "start = time.time()\n",
    "c = open('Taxi000.csv','w')\n",
    "c.write('')\n",
    "c.close()\n",
    "\n",
    "c = open('Taxi000.csv','a')\n",
    "\n",
    "with open('trip_data_11.csv','r') as f:\n",
    "    for i, line in enumerate(f):\n",
    "        if i%1000 == 0:\n",
    "            line = str(line) \n",
    "            c.write(line)\n",
    "#         if i%100000 == 0:\n",
    "#             print line\n",
    "c.close()\n",
    "print \"Time: \", str(time.time()-start)\n"
   ]
  },
  {
   "cell_type": "code",
   "execution_count": 32,
   "metadata": {
    "collapsed": false
   },
   "outputs": [
    {
     "data": {
      "image/png": "[encoded data removed]",
      "text/plain": [
       "<matplotlib.figure.Figure at 0x42ea7f0>"
      ]
     },
     "metadata": {},
     "output_type": "display_data"
    }
   ],
   "source": [
    "# Repeat step 8 with the reduced dataset and compare the two charts\n",
    "import csv\n",
    "import os, sys\n",
    "import matplotlib.pylab as plt\n",
    "\n",
    "# Create a chart which shows the average number of passengers each hour of the day\n",
    "#5 ' pickup_datetime',2013-11-25 15:53:33, TIMESTAMP \n",
    "#6 ' dropoff_datetime',2013-11-25 16:00:51, TIMESTAMP \n",
    "#7 ' passenger_count',1, INT(2)\n",
    "######################################\n",
    "# abc = [[1,2,3,4,5],[6,7,8,9,10]]\n",
    "# for i in range(len(abc)):\n",
    "#     x = sum(abc[i])/len(abc[i])\n",
    "#     print x\n",
    "######################################\n",
    "\n",
    "with open('Taxi000.csv','r') as f:\n",
    "#     dict = {}\n",
    "    reader = csv.reader(f)\n",
    "    fieldNames = next(reader)\n",
    "    listlist = [list() for x in range(24)]\n",
    "    for i, line in enumerate(reader):\n",
    "#         print line\n",
    "        dt = line[5].split(' ')\n",
    "        t = dt[1].split(':')\n",
    "        hour = int(t[0])\n",
    "#         print hour\n",
    "        count = float(line[7])\n",
    "#         print count\n",
    "        listlist[hour].append(count)\n",
    "#         if hour in dict.keys():\n",
    "#             dict[hour] += 1\n",
    "#         else:\n",
    "#             dict[hour] = 1\n",
    "#         print hour\n",
    "        if i > 15000000:\n",
    "            break\n",
    "    \n",
    "# print listlist\n",
    "# print len(dict)\n",
    "# print dict.keys()\n",
    "reduceddict = {}\n",
    "for i in range(len(listlist)):\n",
    "    try:\n",
    "#         print listlist.index(x), sum(x), len(x), sum(x)/len(x)\n",
    "        z = sum(listlist[i])/len(listlist[i])\n",
    "        #print i, z\n",
    "        reduceddict[i] = z\n",
    "    except ZeroDivisionError, e:\n",
    "        print e\n",
    "        pass\n",
    "        \n",
    "#print reduceddict\n",
    "\n",
    "lists = sorted(reduceddict.items()) # sorted by key, return a list of tuples\n",
    "x, y = zip(*lists) # unpack a list of pairs into two tuples\n",
    "plt.plot(x, y)\n",
    "plt.show()\n"
   ]
  },
  {
   "cell_type": "code",
   "execution_count": 27,
   "metadata": {
    "collapsed": false
   },
   "outputs": [
    {
     "data": {
      "image/png": "[encoded data removed]",
      "text/plain": [
       "<matplotlib.figure.Figure at 0x79603fd0>"
      ]
     },
     "metadata": {},
     "output_type": "display_data"
    }
   ],
   "source": [
    "axes = plt.gca()\n",
    "axes.set_xlim([-1,24])\n",
    "axes.set_ylim([1.5,1.9])\n",
    "plt.bar(range(len(reduceddict)), reduceddict.values(), align='center')\n",
    "plt.xticks(range(len(reduceddict)), reduceddict.keys())\n",
    "\n",
    "plt.show()"
   ]
  },
  {
   "cell_type": "raw",
   "metadata": {},
   "source": []
  }
 ],
 "metadata": {
  "kernelspec": {
   "display_name": "Python 2",
   "language": "python",
   "name": "python2"
  },
  "language_info": {
   "codemirror_mode": {
    "name": "ipython",
    "version": 2
   },
   "file_extension": ".py",
   "mimetype": "text/x-python",
   "name": "python",
   "nbconvert_exporter": "python",
   "pygments_lexer": "ipython2",
   "version": "2.7.13"
  }
 },
 "nbformat": 4,
 "nbformat_minor": 0
}
